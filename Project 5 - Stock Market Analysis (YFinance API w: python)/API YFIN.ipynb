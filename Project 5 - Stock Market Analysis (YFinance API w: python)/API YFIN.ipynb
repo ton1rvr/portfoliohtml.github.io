{
 "cells": [
  {
   "cell_type": "markdown",
   "metadata": {},
   "source": [
    "# **Stock Market Analysis Using Yahoo Finance API**\n",
    "\n",
    "## 1. **Introduction**\n",
    "\n",
    "### Contexte et Importance\n",
    "Les marchés financiers sont une source d'informations riches, mais complexes. L'analyse des actions peut aider à prendre des décisions d'investissement éclairées. Ce projet utilise l'API Yahoo Finance pour collecter des données financières et les analyser. Nous allons examiner les performances des actions, les tendances de prix, et appliquer des techniques d'analyse technique et fondamentale pour mieux comprendre les marchés.\n",
    "\n",
    "### Objectifs\n",
    "- **Collecter des données de prix des actions** sur une période donnée en utilisant l'API Yahoo Finance.\n",
    "- **Effectuer une analyse technique** pour identifier les tendances de prix et les points d'entrée et de sortie potentiels.\n",
    "- **Analyser les indicateurs financiers** pour évaluer la santé financière de l'entreprise.\n",
    "- **Créer des visualisations claires et interactives** pour illustrer les résultats.\n",
    "\n",
    "---\n",
    "\n",
    "## 2. **Configuration et Prérequis**\n",
    "\n",
    "### Installation des Bibliothèques\n",
    "\n",
    "Pour exécuter ce projet, vous aurez besoin de quelques bibliothèques Python :\n",
    "\n",
    "```bash\n",
    "pip install yfinance pandas matplotlib seaborn plotly\n",
    "```\n",
    "\n",
    "### Importation des Bibliothèques"
   ]
  },
  {
   "cell_type": "code",
   "execution_count": 2,
   "metadata": {},
   "outputs": [
    {
     "ename": "ModuleNotFoundError",
     "evalue": "No module named 'yfinance'",
     "output_type": "error",
     "traceback": [
      "\u001b[0;31m---------------------------------------------------------------------------\u001b[0m",
      "\u001b[0;31mModuleNotFoundError\u001b[0m                       Traceback (most recent call last)",
      "\u001b[0;32m<ipython-input-2-eaf53c7949a0>\u001b[0m in \u001b[0;36m<module>\u001b[0;34m()\u001b[0m\n\u001b[0;32m----> 1\u001b[0;31m \u001b[0;32mimport\u001b[0m \u001b[0myfinance\u001b[0m \u001b[0;32mas\u001b[0m \u001b[0myf\u001b[0m\u001b[0;34m\u001b[0m\u001b[0m\n\u001b[0m\u001b[1;32m      2\u001b[0m \u001b[0;32mimport\u001b[0m \u001b[0mpandas\u001b[0m \u001b[0;32mas\u001b[0m \u001b[0mpd\u001b[0m\u001b[0;34m\u001b[0m\u001b[0m\n\u001b[1;32m      3\u001b[0m \u001b[0;32mimport\u001b[0m \u001b[0mmatplotlib\u001b[0m\u001b[0;34m.\u001b[0m\u001b[0mpyplot\u001b[0m \u001b[0;32mas\u001b[0m \u001b[0mplt\u001b[0m\u001b[0;34m\u001b[0m\u001b[0m\n\u001b[1;32m      4\u001b[0m \u001b[0;32mimport\u001b[0m \u001b[0mseaborn\u001b[0m \u001b[0;32mas\u001b[0m \u001b[0msns\u001b[0m\u001b[0;34m\u001b[0m\u001b[0m\n\u001b[1;32m      5\u001b[0m \u001b[0;32mimport\u001b[0m \u001b[0mplotly\u001b[0m\u001b[0;34m.\u001b[0m\u001b[0mexpress\u001b[0m \u001b[0;32mas\u001b[0m \u001b[0mpx\u001b[0m\u001b[0;34m\u001b[0m\u001b[0m\n",
      "\u001b[0;31mModuleNotFoundError\u001b[0m: No module named 'yfinance'"
     ]
    }
   ],
   "source": [
    "import yfinance as yf\n",
    "import pandas as pd\n",
    "import matplotlib.pyplot as plt\n",
    "import seaborn as sns\n",
    "import plotly.express as px\n",
    "import numpy as np"
   ]
  },
  {
   "cell_type": "markdown",
   "metadata": {},
   "source": [
    "## 3. **Collecte des Données avec Yahoo Finance API**\n",
    "\n",
    "### Récupération des Données"
   ]
  },
  {
   "cell_type": "code",
   "execution_count": 1,
   "metadata": {},
   "outputs": [
    {
     "ename": "NameError",
     "evalue": "name 'yf' is not defined",
     "output_type": "error",
     "traceback": [
      "\u001b[0;31m---------------------------------------------------------------------------\u001b[0m",
      "\u001b[0;31mNameError\u001b[0m                                 Traceback (most recent call last)",
      "\u001b[0;32m<ipython-input-1-e5b36945a17c>\u001b[0m in \u001b[0;36m<module>\u001b[0;34m()\u001b[0m\n\u001b[1;32m      1\u001b[0m \u001b[0;31m# Exemple: Téléchargement des données pour Apple (AAPL)\u001b[0m\u001b[0;34m\u001b[0m\u001b[0;34m\u001b[0m\u001b[0m\n\u001b[1;32m      2\u001b[0m \u001b[0mticker\u001b[0m \u001b[0;34m=\u001b[0m \u001b[0;34m'AAPL'\u001b[0m\u001b[0;34m\u001b[0m\u001b[0m\n\u001b[0;32m----> 3\u001b[0;31m \u001b[0mdata\u001b[0m \u001b[0;34m=\u001b[0m \u001b[0myf\u001b[0m\u001b[0;34m.\u001b[0m\u001b[0mdownload\u001b[0m\u001b[0;34m(\u001b[0m\u001b[0mticker\u001b[0m\u001b[0;34m,\u001b[0m \u001b[0mstart\u001b[0m\u001b[0;34m=\u001b[0m\u001b[0;34m\"2020-01-01\"\u001b[0m\u001b[0;34m,\u001b[0m \u001b[0mend\u001b[0m\u001b[0;34m=\u001b[0m\u001b[0;34m\"2023-01-01\"\u001b[0m\u001b[0;34m)\u001b[0m\u001b[0;34m\u001b[0m\u001b[0m\n\u001b[0m\u001b[1;32m      4\u001b[0m \u001b[0;34m\u001b[0m\u001b[0m\n\u001b[1;32m      5\u001b[0m \u001b[0;31m# Affichage des premières lignes des données\u001b[0m\u001b[0;34m\u001b[0m\u001b[0;34m\u001b[0m\u001b[0m\n",
      "\u001b[0;31mNameError\u001b[0m: name 'yf' is not defined"
     ]
    }
   ],
   "source": [
    "# Exemple: Téléchargement des données pour Apple (AAPL)\n",
    "ticker = 'AAPL'\n",
    "data = yf.download(ticker, start=\"2020-01-01\", end=\"2023-01-01\")\n",
    "\n",
    "# Affichage des premières lignes des données\n",
    "data.head()"
   ]
  },
  {
   "cell_type": "markdown",
   "metadata": {},
   "source": [
    "### Préparation des Données"
   ]
  },
  {
   "cell_type": "code",
   "execution_count": 3,
   "metadata": {},
   "outputs": [
    {
     "ename": "NameError",
     "evalue": "name 'data' is not defined",
     "output_type": "error",
     "traceback": [
      "\u001b[0;31m---------------------------------------------------------------------------\u001b[0m",
      "\u001b[0;31mNameError\u001b[0m                                 Traceback (most recent call last)",
      "\u001b[0;32m<ipython-input-3-9458140067e4>\u001b[0m in \u001b[0;36m<module>\u001b[0;34m()\u001b[0m\n\u001b[1;32m      1\u001b[0m \u001b[0;31m# Calcul des rendements journaliers\u001b[0m\u001b[0;34m\u001b[0m\u001b[0;34m\u001b[0m\u001b[0m\n\u001b[0;32m----> 2\u001b[0;31m \u001b[0mdata\u001b[0m\u001b[0;34m[\u001b[0m\u001b[0;34m'Daily Return'\u001b[0m\u001b[0;34m]\u001b[0m \u001b[0;34m=\u001b[0m \u001b[0mdata\u001b[0m\u001b[0;34m[\u001b[0m\u001b[0;34m'Adj Close'\u001b[0m\u001b[0;34m]\u001b[0m\u001b[0;34m.\u001b[0m\u001b[0mpct_change\u001b[0m\u001b[0;34m(\u001b[0m\u001b[0;34m)\u001b[0m\u001b[0;34m\u001b[0m\u001b[0m\n\u001b[0m\u001b[1;32m      3\u001b[0m \u001b[0;34m\u001b[0m\u001b[0m\n\u001b[1;32m      4\u001b[0m \u001b[0;31m# Calcul des moyennes mobiles (MA)\u001b[0m\u001b[0;34m\u001b[0m\u001b[0;34m\u001b[0m\u001b[0m\n\u001b[1;32m      5\u001b[0m \u001b[0mdata\u001b[0m\u001b[0;34m[\u001b[0m\u001b[0;34m'50 Day MA'\u001b[0m\u001b[0;34m]\u001b[0m \u001b[0;34m=\u001b[0m \u001b[0mdata\u001b[0m\u001b[0;34m[\u001b[0m\u001b[0;34m'Adj Close'\u001b[0m\u001b[0;34m]\u001b[0m\u001b[0;34m.\u001b[0m\u001b[0mrolling\u001b[0m\u001b[0;34m(\u001b[0m\u001b[0mwindow\u001b[0m\u001b[0;34m=\u001b[0m\u001b[0;36m50\u001b[0m\u001b[0;34m)\u001b[0m\u001b[0;34m.\u001b[0m\u001b[0mmean\u001b[0m\u001b[0;34m(\u001b[0m\u001b[0;34m)\u001b[0m\u001b[0;34m\u001b[0m\u001b[0m\n",
      "\u001b[0;31mNameError\u001b[0m: name 'data' is not defined"
     ]
    }
   ],
   "source": [
    "# Calcul des rendements journaliers\n",
    "data['Daily Return'] = data['Adj Close'].pct_change()\n",
    "\n",
    "# Calcul des moyennes mobiles (MA)\n",
    "data['50 Day MA'] = data['Adj Close'].rolling(window=50).mean()\n",
    "data['200 Day MA'] = data['Adj Close'].rolling(window=200).mean()\n",
    "\n",
    "# Suppression des lignes NaN générées par les moyennes mobiles\n",
    "data = data.dropna()\n",
    "\n",
    "# Affichage des premières lignes des données transformées\n",
    "data.head()"
   ]
  },
  {
   "cell_type": "markdown",
   "metadata": {},
   "source": [
    "---\n",
    "\n",
    "## 4. **Analyse Technique**\n",
    "\n",
    "### A. **Visualisation des Prix et Moyennes Mobiles**\n"
   ]
  },
  {
   "cell_type": "code",
   "execution_count": null,
   "metadata": {},
   "outputs": [],
   "source": [
    "plt.figure(figsize=(14,7))\n",
    "plt.plot(data['Adj Close'], label='Adjusted Close')\n",
    "plt.plot(data['50 Day MA'], label='50 Day Moving Average')\n",
    "plt.plot(data['200 Day MA'], label='200 Day Moving Average')\n",
    "plt.title(f'{ticker} Stock Price and Moving Averages')\n",
    "plt.legend()\n",
    "plt.show()"
   ]
  },
  {
   "cell_type": "markdown",
   "metadata": {},
   "source": [
    "### B. **Analyse des Volumes**"
   ]
  },
  {
   "cell_type": "code",
   "execution_count": null,
   "metadata": {},
   "outputs": [],
   "source": [
    "plt.figure(figsize=(14,7))\n",
    "plt.bar(data.index, data['Volume'])\n",
    "plt.title(f'{ticker} Trading Volume')\n",
    "plt.show()"
   ]
  },
  {
   "cell_type": "markdown",
   "metadata": {},
   "source": [
    "### C. **Calcul des Indicateurs Techniques**\n",
    "\n",
    "#### 1. **Relative Strength Index (RSI)**\n",
    "\n",
    "Le RSI est un indicateur populaire pour identifier les conditions de surachat ou de survente."
   ]
  },
  {
   "cell_type": "code",
   "execution_count": null,
   "metadata": {},
   "outputs": [],
   "source": [
    "def compute_rsi(data, window=14):\n",
    "    delta = data['Adj Close'].diff()\n",
    "    gain = (delta.where(delta > 0, 0)).rolling(window=window).mean()\n",
    "    loss = (-delta.where(delta < 0, 0)).rolling(window=window).mean()\n",
    "    rs = gain / loss\n",
    "    rsi = 100 - (100 / (1 + rs))\n",
    "    return rsi\n",
    "\n",
    "data['RSI'] = compute_rsi(data)\n",
    "\n",
    "plt.figure(figsize=(14,7))\n",
    "plt.plot(data['RSI'], label='RSI')\n",
    "plt.axhline(70, color='red', linestyle='--', label='Overbought Threshold')\n",
    "plt.axhline(30, color='green', linestyle='--', label='Oversold Threshold')\n",
    "plt.title(f'{ticker} RSI')\n",
    "plt.legend()\n",
    "plt.show()"
   ]
  },
  {
   "cell_type": "markdown",
   "metadata": {},
   "source": [
    "#### 2. **Bollinger Bands**\n",
    "\n",
    "Les bandes de Bollinger aident à déterminer si un titre est en surachat ou en survente."
   ]
  },
  {
   "cell_type": "code",
   "execution_count": null,
   "metadata": {},
   "outputs": [],
   "source": [
    "data['Middle Band'] = data['Adj Close'].rolling(window=20).mean()\n",
    "data['Upper Band'] = data['Middle Band'] + 2 * data['Adj Close'].rolling(window=20).std()\n",
    "data['Lower Band'] = data['Middle Band'] - 2 * data['Adj Close'].rolling(window=20).std()\n",
    "\n",
    "plt.figure(figsize=(14,7))\n",
    "plt.plot(data['Adj Close'], label='Adjusted Close')\n",
    "plt.plot(data['Middle Band'], label='Middle Band')\n",
    "plt.plot(data['Upper Band'], label='Upper Band', linestyle='--')\n",
    "plt.plot(data['Lower Band'], label='Lower Band', linestyle='--')\n",
    "plt.fill_between(data.index, data['Upper Band'], data['Lower Band'], color='gray', alpha=0.2)\n",
    "plt.title(f'{ticker} Bollinger Bands')\n",
    "plt.legend()\n",
    "plt.show()"
   ]
  },
  {
   "cell_type": "markdown",
   "metadata": {},
   "source": [
    "---\n",
    "\n",
    "## 5. **Analyse Fondamentale**\n",
    "\n",
    "### A. **Récupération des Données Financières**"
   ]
  },
  {
   "cell_type": "code",
   "execution_count": null,
   "metadata": {},
   "outputs": [],
   "source": [
    "# Récupération des données financières d'Apple\n",
    "stock = yf.Ticker(ticker)\n",
    "financials = stock.financials\n",
    "balance_sheet = stock.balance_sheet\n",
    "cashflow = stock.cashflow"
   ]
  },
  {
   "cell_type": "markdown",
   "metadata": {},
   "source": [
    "### B. **Analyse des Ratios Financiers**\n",
    "\n",
    "Calculer et analyser les ratios financiers clés, comme le ratio de liquidité, le ratio d'endettement, et les marges de profit."
   ]
  },
  {
   "cell_type": "code",
   "execution_count": null,
   "metadata": {},
   "outputs": [],
   "source": [
    "# Exemple: Calcul du ratio de liquidité courante\n",
    "current_assets = balance_sheet.loc['Total Current Assets'][0]\n",
    "current_liabilities = balance_sheet.loc['Total Current Liabilities'][0]\n",
    "current_ratio = current_assets / current_liabilities\n",
    "\n",
    "print(f\"Current Ratio: {current_ratio:.2f}\")"
   ]
  },
  {
   "cell_type": "markdown",
   "metadata": {},
   "source": [
    "---\n",
    "\n",
    "## 6. **Visualisation Interactive avec Plotly**\n",
    "\n",
    "### A. **Interactive Stock Price Chart**"
   ]
  },
  {
   "cell_type": "code",
   "execution_count": null,
   "metadata": {},
   "outputs": [],
   "source": [
    "fig = px.line(data, x=data.index, y='Adj Close', title=f'{ticker} Adjusted Close Price')\n",
    "fig.show()"
   ]
  },
  {
   "cell_type": "markdown",
   "metadata": {},
   "source": [
    "### B. **Comparaison des Performances de Plusieurs Actions**"
   ]
  },
  {
   "cell_type": "code",
   "execution_count": null,
   "metadata": {},
   "outputs": [],
   "source": [
    "# Comparaison entre Apple, Microsoft, et Google\n",
    "tickers = ['AAPL', 'MSFT', 'GOOGL']\n",
    "comparative_data = yf.download(tickers, start=\"2020-01-01\", end=\"2023-01-01\")['Adj Close']\n",
    "\n",
    "# Normalisation des prix pour comparaison\n",
    "comparative_data = comparative_data / comparative_data.iloc[0]\n",
    "\n",
    "fig = px.line(comparative_data, x=comparative_data.index, y=comparative_data.columns, \n",
    "              title='Comparative Stock Price Performance (Normalized)')\n",
    "fig.show()"
   ]
  },
  {
   "cell_type": "markdown",
   "metadata": {},
   "source": [
    "---\n",
    "\n",
    "## 7. **Conclusions et Recommandations**\n",
    "\n",
    "### A. **Résumé des Observations**\n",
    "- **Tendances Identifiées** : Les moyennes mobiles montrent un support à long terme pour Apple, tandis que le RSI et les bandes de Bollinger suggèrent des points d'entrée et de sortie potentiels.\n",
    "- **Analyse Fondamentale** : Les ratios financiers indiquent qu'Apple est dans une position financière saine avec une forte liquidité.\n",
    "\n",
    "### B. **Recommandations**\n",
    "- **Pour les Investisseurs à Long Terme** : Apple continue d'afficher une stabilité financière, ce qui en fait une option solide pour les portefeuilles à long terme.\n",
    "- **Pour les Traders** : Surveillez les niveaux de RSI et les bandes de Bollinger pour identifier des points d'entrée/sortie optimaux.\n",
    "\n",
    "---\n",
    "\n",
    "## 8. **Extensions Possibles**\n",
    "\n",
    "- **Analyse de Sentiment** : Intégrer des données de sentiment provenant des réseaux sociaux ou des nouvelles pour anticiper les mouvements de prix.\n",
    "- **Machine Learning** : Développer des modèles de prévision des prix basés sur des algorithmes de machine learning.\n",
    "- **Backtesting** : Implémenter des stratégies de trading basées sur les indicateurs calculés et les tester sur des données historiques."
   ]
  },
  {
   "cell_type": "code",
   "execution_count": null,
   "metadata": {},
   "outputs": [],
   "source": []
  }
 ],
 "metadata": {
  "kernelspec": {
   "display_name": "Python 3",
   "language": "python",
   "name": "python3"
  },
  "language_info": {
   "codemirror_mode": {
    "name": "ipython",
    "version": 3
   },
   "file_extension": ".py",
   "mimetype": "text/x-python",
   "name": "python",
   "nbconvert_exporter": "python",
   "pygments_lexer": "ipython3",
   "version": "3.6.3"
  }
 },
 "nbformat": 4,
 "nbformat_minor": 2
}
