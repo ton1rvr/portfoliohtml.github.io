{
 "cells": [
  {
   "cell_type": "code",
   "execution_count": 2,
   "metadata": {},
   "outputs": [
    {
     "data": {
      "text/plain": [
       "<Figure size 1000x600 with 1 Axes>"
      ]
     },
     "metadata": {},
     "output_type": "display_data"
    },
    {
     "data": {
      "text/plain": [
       "<Figure size 1000x600 with 1 Axes>"
      ]
     },
     "metadata": {},
     "output_type": "display_data"
    },
    {
     "ename": "ModuleNotFoundError",
     "evalue": "No module named 'plotly'",
     "output_type": "error",
     "traceback": [
      "\u001b[0;31m---------------------------------------------------------------------------\u001b[0m",
      "\u001b[0;31mModuleNotFoundError\u001b[0m                       Traceback (most recent call last)",
      "\u001b[0;32m<ipython-input-2-d1a7561a259b>\u001b[0m in \u001b[0;36m<module>\u001b[0;34m()\u001b[0m\n\u001b[1;32m     55\u001b[0m \u001b[0;31m## 4. Interactive Visualizations with Plotly\u001b[0m\u001b[0;34m\u001b[0m\u001b[0;34m\u001b[0m\u001b[0m\n\u001b[1;32m     56\u001b[0m \u001b[0;34m\u001b[0m\u001b[0m\n\u001b[0;32m---> 57\u001b[0;31m \u001b[0;32mimport\u001b[0m \u001b[0mplotly\u001b[0m\u001b[0;34m.\u001b[0m\u001b[0mexpress\u001b[0m \u001b[0;32mas\u001b[0m \u001b[0mpx\u001b[0m\u001b[0;34m\u001b[0m\u001b[0m\n\u001b[0m\u001b[1;32m     58\u001b[0m \u001b[0;34m\u001b[0m\u001b[0m\n\u001b[1;32m     59\u001b[0m \u001b[0;31m# Interactive time series plot for vaccinations in the United States\u001b[0m\u001b[0;34m\u001b[0m\u001b[0;34m\u001b[0m\u001b[0m\n",
      "\u001b[0;31mModuleNotFoundError\u001b[0m: No module named 'plotly'"
     ]
    }
   ],
   "source": [
    "# COVID-19 Vaccination and Impact Analysis\n",
    "\n",
    "## 1. Introduction\n",
    "# This notebook explores the global trends in COVID-19 vaccinations and analyzes their impact on the spread of the virus.\n",
    "\n",
    "## 2. Data Collection and Preparation\n",
    "\n",
    "import pandas as pd\n",
    "import seaborn as sns\n",
    "import matplotlib.pyplot as plt\n",
    "import plotly.express as px\n",
    "\n",
    "\n",
    "# Load COVID-19 vaccination data from Our World in Data\n",
    "url = 'https://covid.ourworldindata.org/data/owid-covid-data.csv'\n",
    "data = pd.read_csv(url)\n",
    "\n",
    "# Display the first few rows of the dataset\n",
    "data.head()\n",
    "\n",
    "# Convert 'date' column to datetime\n",
    "data['date'] = pd.to_datetime(data['date'])\n",
    "\n",
    "# Select relevant columns for the analysis\n",
    "columns_of_interest = ['location', 'date', 'total_vaccinations', 'people_vaccinated', 'people_fully_vaccinated', 'new_cases', 'new_deaths']\n",
    "data = data[columns_of_interest]\n",
    "\n",
    "# Handle missing values\n",
    "data.fillna(0, inplace=True)\n",
    "\n",
    "# Display the cleaned data\n",
    "data.head()\n",
    "\n",
    "## 3. Exploratory Data Analysis (EDA)\n",
    "\n",
    "# Example: Vaccination trend over time for a specific country (e.g., United States)\n",
    "us_data = data[data['location'] == 'United States']\n",
    "\n",
    "plt.figure(figsize=(10,6))\n",
    "sns.lineplot(x='date', y='people_vaccinated', data=us_data, label='Partially Vaccinated')\n",
    "sns.lineplot(x='date', y='people_fully_vaccinated', data=us_data, label='Fully Vaccinated')\n",
    "plt.title('Vaccination Trend in the United States')\n",
    "plt.xlabel('Date')\n",
    "plt.ylabel('Number of People')\n",
    "plt.legend()\n",
    "plt.show()\n",
    "\n",
    "# Correlation between vaccination rates and new cases\n",
    "plt.figure(figsize=(10,6))\n",
    "sns.scatterplot(x='people_vaccinated', y='new_cases', data=us_data)\n",
    "plt.title('Correlation between Vaccination and New Cases in the United States')\n",
    "plt.xlabel('People Vaccinated')\n",
    "plt.ylabel('New Cases')\n",
    "plt.show()\n",
    "\n",
    "## 4. Interactive Visualizations with Plotly\n",
    "\n",
    "# Interactive time series plot for vaccinations in the United States\n",
    "fig = px.line(us_data, x='date', y='people_vaccinated', title='Interactive Vaccination Trend in the United States')\n",
    "fig.show()\n",
    "\n",
    "# Global vaccination map for a specific date\n",
    "latest_data = data[data['date'] == data['date'].max()]\n",
    "fig = px.choropleth(latest_data, locations=\"location\", locationmode=\"country names\", \n",
    "                    color=\"people_vaccinated_per_hundred\",\n",
    "                    hover_name=\"location\", \n",
    "                    color_continuous_scale=\"Viridis\",\n",
    "                    title=\"Global COVID-19 Vaccination (per 100 people)\")\n",
    "fig.show()\n",
    "\n",
    "## 5. Conclusions\n",
    "# This section will summarize the findings of the analysis and discuss the implications of vaccination trends on controlling the spread of COVID-19.\n",
    "\n"
   ]
  },
  {
   "cell_type": "code",
   "execution_count": null,
   "metadata": {},
   "outputs": [],
   "source": []
  }
 ],
 "metadata": {
  "kernelspec": {
   "display_name": "Python 3",
   "language": "python",
   "name": "python3"
  },
  "language_info": {
   "codemirror_mode": {
    "name": "ipython",
    "version": 3
   },
   "file_extension": ".py",
   "mimetype": "text/x-python",
   "name": "python",
   "nbconvert_exporter": "python",
   "pygments_lexer": "ipython3",
   "version": "3.6.3"
  }
 },
 "nbformat": 4,
 "nbformat_minor": 2
}
